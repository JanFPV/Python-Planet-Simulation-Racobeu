{
 "cells": [
  {
   "cell_type": "markdown",
   "metadata": {},
   "source": [
    "# Planet Simulation\n",
    "This Jupyter notebook aims to simulate the movement of planets around the sun using Pygame."
   ]
  },
  {
   "cell_type": "code",
   "execution_count": 1,
   "metadata": {},
   "outputs": [
    {
     "name": "stdout",
     "output_type": "stream",
     "text": [
      "pygame 2.6.1 (SDL 2.28.4, Python 3.13.2)\n",
      "Hello from the pygame community. https://www.pygame.org/contribute.html\n"
     ]
    }
   ],
   "source": [
    "import pygame\n",
    "import math\n",
    "pygame.init()\n",
    "\n",
    "WIDTH, HEIGHT =  1820, 980\n",
    "WIN = pygame.display.set_mode((WIDTH, HEIGHT))\n",
    "pygame.display.set_caption(\"Planet Simulation for Racobeu\")\n",
    "\n",
    "WHITE = (255, 255, 255)\n",
    "YELLOW = (255, 255, 0)\n",
    "BLUE = (100, 149, 237)\n",
    "RED = (188, 39, 50)\n",
    "DARK_GREY = (80, 78, 81)\n",
    "PINK = (255, 192, 203)\n",
    "FONT = pygame.font.SysFont(\"arial\", 16)"
   ]
  },
  {
   "cell_type": "markdown",
   "metadata": {},
   "source": [
    "## Planet Class\n",
    "The `Planet` class represents a planet in the simulation. It contains methods to draw the planet, calculate gravitational attraction, and update the planet's position."
   ]
  },
  {
   "cell_type": "code",
   "execution_count": 2,
   "metadata": {},
   "outputs": [],
   "source": [
    "class Planet:\n",
    "    AU = 149.6e6 * 1000\n",
    "    G = 6.67428e-11\n",
    "    SCALE = 250 / AU  # 1AU = 100 pixels\n",
    "    TIMESTEP = 3600*24 # 1 day\n",
    "\n",
    "    def __init__(self, name, x, y, radius, color, mass):\n",
    "        self.name = name\n",
    "        self.x = x\n",
    "        self.y = y\n",
    "        self.radius = radius\n",
    "        self.color = color\n",
    "        self.mass = mass\n",
    "\n",
    "        self.orbit = []\n",
    "        self.sun = False\n",
    "        self.distance_to_sun = 0\n",
    "\n",
    "        self.x_vel = 0\n",
    "        self.y_vel = 0\n",
    "\n",
    "    def draw(self, win):\n",
    "        x = self.x * self.SCALE + WIDTH / 2\n",
    "        y = self.y * self.SCALE + HEIGHT / 2\n",
    "\n",
    "        if len(self.orbit) > 2:\n",
    "            updated_points = []\n",
    "            for point in self.orbit:\n",
    "                x, y = point\n",
    "                x = x * self.SCALE + WIDTH / 2\n",
    "                y = y * self.SCALE + HEIGHT / 2\n",
    "                updated_points.append((x, y))\n",
    "\n",
    "            pygame.draw.lines(win, self.color, False, updated_points, 2)\n",
    "\n",
    "        pygame.draw.circle(win, self.color, (x, y), self.radius)\n",
    "\n",
    "        if not self.sun:\n",
    "            distance_text = FONT.render(f\"{round(self.distance_to_sun/1000, 1)}km\", 1, WHITE)\n",
    "            win.blit(distance_text, (x - distance_text.get_width()/2, y - distance_text.get_height()/2))\n",
    "\n",
    "    def attraction(self, other):\n",
    "        other_x, other_y = other.x, other.y\n",
    "        distance_x = other_x - self.x\n",
    "        distance_y = other_y - self.y\n",
    "        distance = math.sqrt(distance_x ** 2 + distance_y ** 2)\n",
    "\n",
    "        if other.sun:\n",
    "            self.distance_to_sun = distance\n",
    "\n",
    "        force = self.G * self.mass * other.mass / distance**2\n",
    "        theta = math.atan2(distance_y, distance_x)\n",
    "        force_x = math.cos(theta) * force\n",
    "        force_y = math.sin(theta) * force\n",
    "        return force_x, force_y\n",
    "\n",
    "    def update_position(self, planets):\n",
    "        total_fx = total_fy = 0\n",
    "        for planet in planets:\n",
    "            if self == planet:\n",
    "                continue\n",
    "\n",
    "            fx, fy = self.attraction(planet)\n",
    "            total_fx += fx\n",
    "            total_fy += fy\n",
    "\n",
    "        self.x_vel += total_fx / self.mass * self.TIMESTEP\n",
    "        self.y_vel += total_fy / self.mass * self.TIMESTEP\n",
    "\n",
    "        self.x += self.x_vel * self.TIMESTEP\n",
    "        self.y += self.y_vel * self.TIMESTEP\n",
    "        self.orbit.append((self.x, self.y))"
   ]
  },
  {
   "cell_type": "markdown",
   "metadata": {},
   "source": [
    "## Main Function\n",
    "The `main` function initializes the planets and runs the main loop of the simulation."
   ]
  },
  {
   "cell_type": "code",
   "execution_count": 7,
   "metadata": {},
   "outputs": [],
   "source": [
    "def main():\n",
    "    run = True\n",
    "    clock = pygame.time.Clock()\n",
    "    paused = False\n",
    "\n",
    "    sun = Planet(\"Sun\", 0, 0, 30, YELLOW, 1.98892 * 10**30)\n",
    "    sun.sun = True\n",
    "\n",
    "    mercury = Planet(\"Mercury\", 0.387 * Planet.AU, 0, 8, DARK_GREY, 3.30 * 10**23)\n",
    "    mercury.y_vel = -47.4 * 1000\n",
    "\n",
    "    venus = Planet(\"Venus\", 0.723 * Planet.AU, 0, 14, WHITE, 4.8685 * 10**24)\n",
    "    venus.y_vel = -35.02 * 1000\n",
    "\n",
    "    earth = Planet(\"Earth\", -1 * Planet.AU, 0, 16, BLUE, 5.9742 * 10**24)\n",
    "    earth.y_vel = 29.783 * 1000\n",
    "\n",
    "    mars = Planet(\"Mars\", -1.524 * Planet.AU, 0, 12, RED, 6.39 * 10**23)\n",
    "    mars.y_vel = 24.077 * 1000\n",
    "\n",
    "    planets = [sun, mercury, venus, earth, mars]\n",
    "\n",
    "    while run:\n",
    "        clock.tick(60)\n",
    "        WIN.fill((0, 0, 0))\n",
    "\n",
    "        for event in pygame.event.get():\n",
    "            if event.type == pygame.QUIT:\n",
    "                run = False\n",
    "            if event.type == pygame.KEYDOWN:\n",
    "                if event.key == pygame.K_SPACE:\n",
    "                    paused = not paused\n",
    "\n",
    "        if not paused:\n",
    "            for planet in planets:\n",
    "                planet.update_position(planets)\n",
    "                planet.draw(WIN)\n",
    "            pygame.display.update()\n",
    "\n",
    "    pygame.quit()\n",
    "\n",
    "main()"
   ]
  }
 ],
 "metadata": {
  "kernelspec": {
   "display_name": "planetSim",
   "language": "python",
   "name": "python3"
  },
  "language_info": {
   "codemirror_mode": {
    "name": "ipython",
    "version": 3
   },
   "file_extension": ".py",
   "mimetype": "text/x-python",
   "name": "python",
   "nbconvert_exporter": "python",
   "pygments_lexer": "ipython3",
   "version": "3.13.2"
  }
 },
 "nbformat": 4,
 "nbformat_minor": 4
}
